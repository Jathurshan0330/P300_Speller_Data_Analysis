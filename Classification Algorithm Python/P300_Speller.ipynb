{
  "nbformat": 4,
  "nbformat_minor": 0,
  "metadata": {
    "colab": {
      "name": "P300_Speller.ipynb",
      "provenance": [],
      "collapsed_sections": []
    },
    "kernelspec": {
      "name": "python3",
      "display_name": "Python 3"
    },
    "language_info": {
      "name": "python"
    }
  },
  "cells": [
    {
      "cell_type": "code",
      "metadata": {
        "colab": {
          "base_uri": "https://localhost:8080/"
        },
        "id": "C7jCPsS6UeWC",
        "outputId": "cb38af12-1951-4a37-98df-31b546dac1b5"
      },
      "source": [
        "!pip install mne"
      ],
      "execution_count": 1,
      "outputs": [
        {
          "output_type": "stream",
          "text": [
            "Requirement already satisfied: mne in /usr/local/lib/python3.7/dist-packages (0.22.1)\n",
            "Requirement already satisfied: numpy>=1.11.3 in /usr/local/lib/python3.7/dist-packages (from mne) (1.19.5)\n",
            "Requirement already satisfied: scipy>=0.17.1 in /usr/local/lib/python3.7/dist-packages (from mne) (1.4.1)\n"
          ],
          "name": "stdout"
        }
      ]
    },
    {
      "cell_type": "code",
      "metadata": {
        "id": "QIS4koUkUavN"
      },
      "source": [
        "from mne.decoding import CSP\n",
        "from sklearn.model_selection import GridSearchCV"
      ],
      "execution_count": 2,
      "outputs": []
    },
    {
      "cell_type": "code",
      "metadata": {
        "id": "alHeP9kNReH6"
      },
      "source": [
        "import numpy as np\n",
        "from sklearn.discriminant_analysis import LinearDiscriminantAnalysis as LDA\n",
        "from sklearn.model_selection import cross_val_score\n",
        "from sklearn.model_selection import RepeatedStratifiedKFold\n",
        "import scipy.io"
      ],
      "execution_count": 3,
      "outputs": []
    },
    {
      "cell_type": "code",
      "metadata": {
        "colab": {
          "base_uri": "https://localhost:8080/"
        },
        "id": "2FTEC86sPeYF",
        "outputId": "f3c9add5-57a5-45c4-985e-917bc74718d4"
      },
      "source": [
        "from google.colab import drive\n",
        "drive.mount('/content/drive')"
      ],
      "execution_count": 4,
      "outputs": [
        {
          "output_type": "stream",
          "text": [
            "Drive already mounted at /content/drive; to attempt to forcibly remount, call drive.mount(\"/content/drive\", force_remount=True).\n"
          ],
          "name": "stdout"
        }
      ]
    },
    {
      "cell_type": "code",
      "metadata": {
        "colab": {
          "base_uri": "https://localhost:8080/"
        },
        "id": "MnxWVX7TRqCj",
        "outputId": "bb590953-0131-4a52-8eb5-e2b667bec043"
      },
      "source": [
        "cd '/content/drive/MyDrive/P300_Speller_data/first_experiment/600ms_sw'"
      ],
      "execution_count": 17,
      "outputs": [
        {
          "output_type": "stream",
          "text": [
            "/content/drive/MyDrive/P300_Speller_data/first_experiment/600ms_sw\n"
          ],
          "name": "stdout"
        }
      ]
    },
    {
      "cell_type": "code",
      "metadata": {
        "colab": {
          "base_uri": "https://localhost:8080/"
        },
        "id": "q5pje4cMQ7P9",
        "outputId": "169aeea9-860f-4d89-8c95-ffd863be6760"
      },
      "source": [
        "pos_data = scipy.io.loadmat('pos_data_S5_600ms_Spectral_whitened.mat')['pos_data']\n",
        "print(pos_data.shape)\n",
        "neg_data = scipy.io.loadmat('neg_data_S5_600ms_Spectral_whitened.mat')['neg_data']\n",
        "print(neg_data.shape)"
      ],
      "execution_count": 18,
      "outputs": [
        {
          "output_type": "stream",
          "text": [
            "(150, 8, 150)\n",
            "(150, 8, 1050)\n"
          ],
          "name": "stdout"
        }
      ]
    },
    {
      "cell_type": "markdown",
      "metadata": {
        "id": "_DazBZuACuTm"
      },
      "source": [
        "**Training Data**"
      ]
    },
    {
      "cell_type": "code",
      "metadata": {
        "colab": {
          "base_uri": "https://localhost:8080/"
        },
        "id": "N5pXNDuKSJ3Y",
        "outputId": "c3920fc4-7802-46f3-8238-446160858dcc"
      },
      "source": [
        "data = np.append(pos_data ,neg_data ,axis = 2) \n",
        "data = np.moveaxis(data,-1,0)\n",
        "data = np.moveaxis(data,-1,1)\n",
        "data_ = data.reshape(data.shape[0],-1)\n",
        "print(data_.shape)"
      ],
      "execution_count": 7,
      "outputs": [
        {
          "output_type": "stream",
          "text": [
            "(1200, 1600)\n"
          ],
          "name": "stdout"
        }
      ]
    },
    {
      "cell_type": "code",
      "metadata": {
        "colab": {
          "base_uri": "https://localhost:8080/"
        },
        "id": "3o6IOJXNCsQm",
        "outputId": "4bdbda69-7b04-4024-9747-82b3b4d40ffe"
      },
      "source": [
        "labels = np.append(np.ones((pos_data.shape[2],)),np.zeros((neg_data.shape[2],)),axis=0)\n",
        "cv = RepeatedStratifiedKFold(n_splits=5, n_repeats=5, random_state=1)\n",
        "print(labels.shape)"
      ],
      "execution_count": 8,
      "outputs": [
        {
          "output_type": "stream",
          "text": [
            "(1200,)\n"
          ],
          "name": "stdout"
        }
      ]
    },
    {
      "cell_type": "markdown",
      "metadata": {
        "id": "LfXLJwWSDJET"
      },
      "source": [
        "**Classifier**"
      ]
    },
    {
      "cell_type": "code",
      "metadata": {
        "id": "BTaQyODAUW75"
      },
      "source": [
        "#csp = CSP(n_components=8, reg=None, log=True)"
      ],
      "execution_count": 9,
      "outputs": []
    },
    {
      "cell_type": "code",
      "metadata": {
        "id": "eCP4m41EUuVi"
      },
      "source": [
        "#A = csp.fit_transform(data,labels)"
      ],
      "execution_count": 10,
      "outputs": []
    },
    {
      "cell_type": "code",
      "metadata": {
        "id": "TsB88fSmWNAw"
      },
      "source": [
        "#print(A.shape)"
      ],
      "execution_count": 11,
      "outputs": []
    },
    {
      "cell_type": "code",
      "metadata": {
        "id": "M573CgCNBb8n"
      },
      "source": [
        "clf = LDA()\n",
        "scores = cross_val_score(clf, data_, labels, scoring='accuracy', cv=cv, n_jobs=-1)"
      ],
      "execution_count": 12,
      "outputs": []
    },
    {
      "cell_type": "code",
      "metadata": {
        "colab": {
          "base_uri": "https://localhost:8080/",
          "height": 53
        },
        "id": "c8Luw4d9CCXz",
        "outputId": "9737a458-99f7-4acf-cdba-6ee24b648c6a"
      },
      "source": [
        "'''\n",
        "grid = dict()\n",
        "grid['solver'] = ['svd', 'lsqr', 'eigen']\n",
        "# define search\n",
        "search = GridSearchCV(clf, grid, scoring='accuracy', cv=cv, n_jobs=-1)\n",
        "# perform the search\n",
        "results = search.fit(data_, labels)\n",
        "# summarize\n",
        "print('Mean Accuracy: %.3f' % results.best_score_)\n",
        "print('Config: %s' % results.best_params_)\n",
        "'''"
      ],
      "execution_count": 13,
      "outputs": [
        {
          "output_type": "execute_result",
          "data": {
            "application/vnd.google.colaboratory.intrinsic+json": {
              "type": "string"
            },
            "text/plain": [
              "\"\\ngrid = dict()\\ngrid['solver'] = ['svd', 'lsqr', 'eigen']\\n# define search\\nsearch = GridSearchCV(clf, grid, scoring='accuracy', cv=cv, n_jobs=-1)\\n# perform the search\\nresults = search.fit(data_, labels)\\n# summarize\\nprint('Mean Accuracy: %.3f' % results.best_score_)\\nprint('Config: %s' % results.best_params_)\\n\""
            ]
          },
          "metadata": {
            "tags": []
          },
          "execution_count": 13
        }
      ]
    },
    {
      "cell_type": "code",
      "metadata": {
        "colab": {
          "base_uri": "https://localhost:8080/"
        },
        "id": "uyyBb144JM3T",
        "outputId": "050cf3e0-42af-4caa-c1f4-3dff45701bea"
      },
      "source": [
        "print(np.mean(scores))\n",
        "print(np.std(scores))"
      ],
      "execution_count": 14,
      "outputs": [
        {
          "output_type": "stream",
          "text": [
            "0.8951666666666667\n",
            "0.015664893516678904\n"
          ],
          "name": "stdout"
        }
      ]
    },
    {
      "cell_type": "code",
      "metadata": {
        "colab": {
          "base_uri": "https://localhost:8080/"
        },
        "id": "13LIb6heNC2x",
        "outputId": "0f116c4a-4789-4029-ecb7-848801dea17b"
      },
      "source": [
        "scores"
      ],
      "execution_count": 15,
      "outputs": [
        {
          "output_type": "execute_result",
          "data": {
            "text/plain": [
              "array([0.88333333, 0.9125    , 0.90416667, 0.86666667, 0.92083333,\n",
              "       0.90416667, 0.9       , 0.89166667, 0.9       , 0.89583333,\n",
              "       0.88333333, 0.88333333, 0.87916667, 0.89166667, 0.89583333,\n",
              "       0.91666667, 0.88333333, 0.90416667, 0.89583333, 0.93333333,\n",
              "       0.8875    , 0.87916667, 0.89166667, 0.86666667, 0.90833333])"
            ]
          },
          "metadata": {
            "tags": []
          },
          "execution_count": 15
        }
      ]
    },
    {
      "cell_type": "code",
      "metadata": {
        "id": "Olr12j0TX-fW"
      },
      "source": [
        ""
      ],
      "execution_count": null,
      "outputs": []
    }
  ]
}