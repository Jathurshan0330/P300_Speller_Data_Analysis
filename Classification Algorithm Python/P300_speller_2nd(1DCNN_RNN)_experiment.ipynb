{
  "nbformat": 4,
  "nbformat_minor": 0,
  "metadata": {
    "colab": {
      "name": " P300_speller_2nd(1DCNN_RNN)_experiment.ipynb",
      "provenance": [],
      "collapsed_sections": [
        "MSPO4Ow8b571"
      ]
    },
    "kernelspec": {
      "name": "python3",
      "display_name": "Python 3"
    },
    "language_info": {
      "name": "python"
    },
    "accelerator": "GPU"
  },
  "cells": [
    {
      "cell_type": "code",
      "metadata": {
        "id": "GPd7f86kPd4v"
      },
      "source": [
        "#Import libraries\n",
        "import os\n",
        "import sys\n",
        "import numpy as np\n",
        "import matplotlib.pyplot as plt\n",
        "import scipy.io\n",
        "\n",
        "from sklearn.model_selection import train_test_split\n",
        "from sklearn.discriminant_analysis import LinearDiscriminantAnalysis as LDA\n",
        "from sklearn.model_selection import cross_val_score\n",
        "from sklearn.model_selection import RepeatedStratifiedKFold\n",
        "import tensorflow as tf\n",
        "from scipy import stats \n",
        "from tensorflow.keras.models import Sequential,Model\n",
        "from tensorflow.keras.layers import Dense, Input,LSTM,Reshape,Conv2D,Conv1D,Flatten,Dropout,BatchNormalization, LeakyReLU, concatenate, GRU, GlobalMaxPooling1D, GlobalMaxPooling2D, Bidirectional"
      ],
      "execution_count": null,
      "outputs": []
    },
    {
      "cell_type": "code",
      "metadata": {
        "colab": {
          "base_uri": "https://localhost:8080/"
        },
        "id": "zM_RMPiRP1FR",
        "outputId": "88db2740-69fe-4c8d-a47b-32e528d8ec0b"
      },
      "source": [
        "from google.colab import drive\n",
        "drive.mount('/content/drive')"
      ],
      "execution_count": null,
      "outputs": [
        {
          "output_type": "stream",
          "text": [
            "Mounted at /content/drive\n"
          ],
          "name": "stdout"
        }
      ]
    },
    {
      "cell_type": "code",
      "metadata": {
        "colab": {
          "base_uri": "https://localhost:8080/"
        },
        "id": "dEUecje3QAqP",
        "outputId": "72dbb817-0b17-4e86-ef07-c14871ecb4df"
      },
      "source": [
        "cd '/content/drive/MyDrive/P300_Speller_data/first_experiment/800ms_sw'"
      ],
      "execution_count": null,
      "outputs": [
        {
          "output_type": "stream",
          "text": [
            "/content/drive/MyDrive/P300_Speller_data/first_experiment/800ms_sw\n"
          ],
          "name": "stdout"
        }
      ]
    },
    {
      "cell_type": "code",
      "metadata": {
        "colab": {
          "base_uri": "https://localhost:8080/"
        },
        "id": "LITRNSbvQrGa",
        "outputId": "28e98f38-1bb5-4565-9c62-591a7d61ce2b"
      },
      "source": [
        "pos_data = scipy.io.loadmat('pos_data_S5_800ms_Spectral_whitened.mat')['pos_data']\n",
        "print(pos_data.shape)\n",
        "neg_data = scipy.io.loadmat('neg_data_S5_800ms_Spectral_whitened.mat')['neg_data']  #_Spectral_whitened\n",
        "print(neg_data.shape)\n"
      ],
      "execution_count": null,
      "outputs": [
        {
          "output_type": "stream",
          "text": [
            "(200, 8, 150)\n",
            "(200, 8, 1050)\n"
          ],
          "name": "stdout"
        }
      ]
    },
    {
      "cell_type": "code",
      "metadata": {
        "colab": {
          "base_uri": "https://localhost:8080/"
        },
        "id": "cB_AnPtJXdEw",
        "outputId": "a218085b-6835-4b2a-8234-897bf6aa55e1"
      },
      "source": [
        "pos_stat = scipy.io.loadmat('pos_data_stat_S5_800ms_Spectral_whitened.mat')['pos_stat']\n",
        "print(pos_stat.shape)\n",
        "neg_stat = scipy.io.loadmat('neg_data_stat_S5_800ms_Spectral_whitened.mat')['neg_stat']  #_Spectral_whitened\n",
        "print(neg_stat.shape)"
      ],
      "execution_count": null,
      "outputs": [
        {
          "output_type": "stream",
          "text": [
            "(8, 8, 150)\n",
            "(8, 8, 1050)\n"
          ],
          "name": "stdout"
        }
      ]
    },
    {
      "cell_type": "code",
      "metadata": {
        "colab": {
          "base_uri": "https://localhost:8080/"
        },
        "id": "TXuMftsQRKng",
        "outputId": "601a9536-a50e-45d8-e3ef-69fabd649c17"
      },
      "source": [
        "data = np.append(pos_data ,neg_data ,axis = 2) \n",
        "data_stat = np.append(pos_stat ,neg_stat ,axis = 2) \n",
        "print(data.shape)\n",
        "print(data_stat.shape)"
      ],
      "execution_count": null,
      "outputs": [
        {
          "output_type": "stream",
          "text": [
            "(200, 8, 1200)\n",
            "(8, 8, 1200)\n"
          ],
          "name": "stdout"
        }
      ]
    },
    {
      "cell_type": "code",
      "metadata": {
        "colab": {
          "base_uri": "https://localhost:8080/"
        },
        "id": "KM7H5GbSSocW",
        "outputId": "07ce3651-e1d7-46de-8778-0780a916d8ce"
      },
      "source": [
        "labels = np.append(np.ones((pos_data.shape[2],)),np.zeros((neg_data.shape[2],)))\n",
        "print(pos_data.shape[2])\n",
        "print(neg_data.shape[2])\n",
        "print(labels.shape)\n",
        "print(labels)"
      ],
      "execution_count": null,
      "outputs": [
        {
          "output_type": "stream",
          "text": [
            "150\n",
            "1050\n",
            "(1200,)\n",
            "[1. 1. 1. ... 0. 0. 0.]\n"
          ],
          "name": "stdout"
        }
      ]
    },
    {
      "cell_type": "code",
      "metadata": {
        "colab": {
          "base_uri": "https://localhost:8080/"
        },
        "id": "bbStdqya8t3I",
        "outputId": "dd912951-21c9-4af1-9e4d-6061d837ca77"
      },
      "source": [
        "data = data\n",
        "data = np.moveaxis(data,-1,0)\n",
        "# , timesteps, features/units\n",
        "#data = np.moveaxis(data,-1,1)\n",
        "print(data.shape)\n",
        "\n",
        "data_stat = data_stat\n",
        "data_stat = np.moveaxis(data_stat,-1,0)\n",
        "# , timesteps, features/units\n",
        "#data = np.moveaxis(data,-1,1)\n",
        "print(data_stat.shape)"
      ],
      "execution_count": null,
      "outputs": [
        {
          "output_type": "stream",
          "text": [
            "(1200, 200, 8)\n",
            "(1200, 8, 8)\n"
          ],
          "name": "stdout"
        }
      ]
    },
    {
      "cell_type": "markdown",
      "metadata": {
        "id": "MSPO4Ow8b571"
      },
      "source": [
        "##1DCNN +RNN"
      ]
    },
    {
      "cell_type": "code",
      "metadata": {
        "colab": {
          "base_uri": "https://localhost:8080/"
        },
        "id": "YKNZTmXjeY3o",
        "outputId": "1599f175-8b66-4f1b-d3e7-52ed21be49ce"
      },
      "source": [
        "X_train, X_val,X_s_train,X_s_val, y_train, y_val = train_test_split(data, data_stat, labels, test_size=0.2, random_state=42, stratify = labels)\n",
        "print(X_train.shape)\n",
        "print(X_s_train.shape)\n",
        "print(y_train.shape)\n",
        "print(X_val.shape)\n",
        "print(X_s_val.shape)\n",
        "print(y_val.shape)"
      ],
      "execution_count": null,
      "outputs": [
        {
          "output_type": "stream",
          "text": [
            "(960, 200, 8)\n",
            "(960, 8, 8)\n",
            "(960,)\n",
            "(240, 200, 8)\n",
            "(240, 8, 8)\n",
            "(240,)\n"
          ],
          "name": "stdout"
        }
      ]
    },
    {
      "cell_type": "code",
      "metadata": {
        "id": "b1kdLAsnuo0w"
      },
      "source": [
        "#undersampling\n",
        "#import random\n",
        "\n",
        "\n",
        "#c = 0\n",
        "#while True:\n",
        "#    no_data = X_train.shape[0]\n",
        "#    test_list = [i for i in range(no_data)]\n",
        "#    random_num = random.choice(test_list) \n",
        "#    if y_train[random_num] == 0:\n",
        "#        \n",
        "#        #label = np.reshape(label, (1,1))\n",
        "#        X_train = np.delete(X_train,random_num,axis = 0) \n",
        "#        y_train = np.delete(y_train,random_num,axis = 0)\n",
        "#    if X_train.shape[0] == 480:\n",
        "#      break\n",
        "#print(X_train.shape)\n",
        "#print(y_train.shape)"
      ],
      "execution_count": null,
      "outputs": []
    },
    {
      "cell_type": "code",
      "metadata": {
        "colab": {
          "base_uri": "https://localhost:8080/"
        },
        "id": "FcdEKdSjjZwA",
        "outputId": "b4fb3708-d6c7-4be1-8da3-4cb47f2eaa5f"
      },
      "source": [
        "from collections import Counter\n",
        "print(Counter(y_train))\n",
        "print(Counter(y_val))"
      ],
      "execution_count": null,
      "outputs": [
        {
          "output_type": "stream",
          "text": [
            "Counter({0.0: 840, 1.0: 120})\n",
            "Counter({0.0: 210, 1.0: 30})\n"
          ],
          "name": "stdout"
        }
      ]
    },
    {
      "cell_type": "code",
      "metadata": {
        "colab": {
          "base_uri": "https://localhost:8080/"
        },
        "id": "J4lpOOPVcgbL",
        "outputId": "51884f50-fc4e-43ea-d708-86cc06f812be"
      },
      "source": [
        "#Model building\n",
        "#model best for second experiment\n",
        "inputX1 = Input(shape = X_train[1,:,:].shape) \n",
        "y_pred = Conv1D(filters = 16, kernel_size =10, strides = 5, activation='relu')(inputX1)\n",
        "print(y_pred.shape)\n",
        "\n",
        "y_pred =LSTM(units=64,activation='tanh',dropout=0.1,return_sequences=True,)(y_pred)   #dropout = 0.1      units =64\n",
        "y_pred = Flatten()(y_pred)\n",
        "y_pred = Dense(16,activation='relu')(y_pred)\n",
        "y_pred = Dropout(0.3)(y_pred)\n",
        "y_pred = Dense(1,activation='sigmoid')(y_pred)"
      ],
      "execution_count": null,
      "outputs": [
        {
          "output_type": "stream",
          "text": [
            "(None, 39, 16)\n"
          ],
          "name": "stdout"
        }
      ]
    },
    {
      "cell_type": "code",
      "metadata": {
        "colab": {
          "base_uri": "https://localhost:8080/"
        },
        "id": "UfvaFNFhYYg8",
        "outputId": "e00dbe3c-47b5-40ac-868a-220d917c7d70"
      },
      "source": [
        "#Model building\n",
        "#model with statistical features\n",
        "inputX1 = Input(shape = X_train[1,:,:].shape) \n",
        "inputX2 = Input(shape = X_s_train[1,:,:].shape)\n",
        "\n",
        "x1 = Conv1D(filters = 16, kernel_size =10, strides = 5, activation='relu')(inputX1)\n",
        "print(x1.shape)\n",
        "\n",
        "x1 =LSTM(units=64,activation='tanh',dropout=0.1,return_sequences=True,)(x1)   #dropout = 0.1      units =64\n",
        "x1 = Flatten()(x1)\n",
        "x1 = Model(inputs=inputX1, outputs=x1)\n",
        "\n",
        "x2 = Flatten()(inputX2)\n",
        "print(x2.shape)\n",
        "x2 = Dense(32,activation='relu')(x2)\n",
        "x2 = Model(inputs=inputX2, outputs=x2)\n",
        "\n",
        "y_pred = concatenate([x1.output, x2.output])\n",
        "print(y_pred.shape)\n",
        "y_pred = Dense(16,activation='relu')(y_pred)\n",
        "y_pred = Dropout(0.3)(y_pred)\n",
        "y_pred = Dense(1,activation='sigmoid')(y_pred)"
      ],
      "execution_count": null,
      "outputs": [
        {
          "output_type": "stream",
          "text": [
            "(None, 39, 16)\n",
            "(None, 64)\n",
            "(None, 2528)\n"
          ],
          "name": "stdout"
        }
      ]
    },
    {
      "cell_type": "code",
      "metadata": {
        "colab": {
          "base_uri": "https://localhost:8080/",
          "height": 754
        },
        "id": "Zk81nyDHe-Ji",
        "outputId": "a16a3664-793f-459d-9830-82069b72902a"
      },
      "source": [
        "model = Model(inputs=inputX1, outputs=y_pred)\n",
        "from keras.utils.vis_utils import plot_model\n",
        "plot_model(model, to_file='model_plot.png', show_shapes=True, show_layer_names=True)"
      ],
      "execution_count": null,
      "outputs": [
        {
          "output_type": "execute_result",
          "data": {
            "image/png": "[encoded data removed]",
            "text/plain": [
              "<IPython.core.display.Image object>"
            ]
          },
          "metadata": {
            "tags": []
          },
          "execution_count": 14
        }
      ]
    },
    {
      "cell_type": "code",
      "metadata": {
        "colab": {
          "base_uri": "https://localhost:8080/"
        },
        "id": "JRFTIpTRf3O7",
        "outputId": "f7c84b75-1abd-4384-ac80-9403b5b21ce7"
      },
      "source": [
        "adam = tf.keras.optimizers.RMSprop(learning_rate = 0.001)\n",
        "model.compile(optimizer = adam,loss = 'binary_crossentropy',metrics = ['accuracy'])\n",
        "print(\"Model Training\")\n",
        "history = model.fit(x=[X_train,X_s_train], y=y_train, epochs=100,validation_data=([X_val,X_s_val], y_val),verbose=1)   "
      ],
      "execution_count": null,
      "outputs": [
        {
          "output_type": "stream",
          "text": [
            "Model Training\n",
            "Epoch 1/100\n",
            "30/30 [==============================] - 4s 54ms/step - loss: 0.4745 - accuracy: 0.8000 - val_loss: 0.3079 - val_accuracy: 0.8750\n",
            "Epoch 2/100\n",
            "30/30 [==============================] - 1s 23ms/step - loss: 0.2744 - accuracy: 0.8814 - val_loss: 0.2395 - val_accuracy: 0.8792\n",
            "Epoch 3/100\n",
            "30/30 [==============================] - 1s 23ms/step - loss: 0.2263 - accuracy: 0.9146 - val_loss: 0.1999 - val_accuracy: 0.9250\n",
            "Epoch 4/100\n",
            "30/30 [==============================] - 1s 24ms/step - loss: 0.1764 - accuracy: 0.9198 - val_loss: 0.1830 - val_accuracy: 0.9292\n",
            "Epoch 5/100\n",
            "30/30 [==============================] - 1s 25ms/step - loss: 0.1222 - accuracy: 0.9469 - val_loss: 0.1538 - val_accuracy: 0.9333\n",
            "Epoch 6/100\n",
            "30/30 [==============================] - 1s 23ms/step - loss: 0.1147 - accuracy: 0.9617 - val_loss: 0.1872 - val_accuracy: 0.9083\n",
            "Epoch 7/100\n",
            "30/30 [==============================] - 1s 22ms/step - loss: 0.0936 - accuracy: 0.9661 - val_loss: 0.1579 - val_accuracy: 0.9375\n",
            "Epoch 8/100\n",
            "30/30 [==============================] - 1s 23ms/step - loss: 0.0806 - accuracy: 0.9729 - val_loss: 0.1540 - val_accuracy: 0.9583\n",
            "Epoch 9/100\n",
            "30/30 [==============================] - 1s 23ms/step - loss: 0.0470 - accuracy: 0.9833 - val_loss: 0.1339 - val_accuracy: 0.9583\n",
            "Epoch 10/100\n",
            "30/30 [==============================] - 1s 24ms/step - loss: 0.0621 - accuracy: 0.9748 - val_loss: 0.1774 - val_accuracy: 0.9542\n",
            "Epoch 11/100\n",
            "30/30 [==============================] - 1s 23ms/step - loss: 0.0366 - accuracy: 0.9909 - val_loss: 0.1703 - val_accuracy: 0.9250\n",
            "Epoch 12/100\n",
            "30/30 [==============================] - 1s 22ms/step - loss: 0.0331 - accuracy: 0.9913 - val_loss: 0.1484 - val_accuracy: 0.9417\n",
            "Epoch 13/100\n",
            "30/30 [==============================] - 1s 23ms/step - loss: 0.0243 - accuracy: 0.9920 - val_loss: 0.2257 - val_accuracy: 0.9500\n",
            "Epoch 14/100\n",
            "30/30 [==============================] - 1s 23ms/step - loss: 0.0317 - accuracy: 0.9902 - val_loss: 0.1194 - val_accuracy: 0.9667\n",
            "Epoch 15/100\n",
            "30/30 [==============================] - 1s 23ms/step - loss: 0.0159 - accuracy: 0.9964 - val_loss: 0.1970 - val_accuracy: 0.9500\n",
            "Epoch 16/100\n",
            "30/30 [==============================] - 1s 22ms/step - loss: 0.0262 - accuracy: 0.9915 - val_loss: 0.1663 - val_accuracy: 0.9625\n",
            "Epoch 17/100\n",
            "30/30 [==============================] - 1s 24ms/step - loss: 0.0131 - accuracy: 0.9986 - val_loss: 0.1583 - val_accuracy: 0.9542\n",
            "Epoch 18/100\n",
            "30/30 [==============================] - 1s 22ms/step - loss: 0.0069 - accuracy: 0.9992 - val_loss: 0.2931 - val_accuracy: 0.9458\n",
            "Epoch 19/100\n",
            "30/30 [==============================] - 1s 23ms/step - loss: 0.0188 - accuracy: 0.9916 - val_loss: 0.2353 - val_accuracy: 0.9292\n",
            "Epoch 20/100\n",
            "30/30 [==============================] - 1s 24ms/step - loss: 0.0120 - accuracy: 0.9969 - val_loss: 0.2151 - val_accuracy: 0.9583\n",
            "Epoch 21/100\n",
            "30/30 [==============================] - 1s 24ms/step - loss: 0.0137 - accuracy: 0.9970 - val_loss: 0.2161 - val_accuracy: 0.9375\n",
            "Epoch 22/100\n",
            "30/30 [==============================] - 1s 23ms/step - loss: 0.0061 - accuracy: 0.9985 - val_loss: 0.2176 - val_accuracy: 0.9500\n",
            "Epoch 23/100\n",
            "30/30 [==============================] - 1s 23ms/step - loss: 0.0102 - accuracy: 0.9980 - val_loss: 0.2243 - val_accuracy: 0.9542\n",
            "Epoch 24/100\n",
            "30/30 [==============================] - 1s 24ms/step - loss: 0.0163 - accuracy: 0.9926 - val_loss: 0.1767 - val_accuracy: 0.9583\n",
            "Epoch 25/100\n",
            "30/30 [==============================] - 1s 23ms/step - loss: 0.0082 - accuracy: 0.9982 - val_loss: 0.1459 - val_accuracy: 0.9625\n",
            "Epoch 26/100\n",
            "30/30 [==============================] - 1s 24ms/step - loss: 0.0163 - accuracy: 0.9912 - val_loss: 0.1540 - val_accuracy: 0.9583\n",
            "Epoch 27/100\n",
            "30/30 [==============================] - 1s 23ms/step - loss: 0.0037 - accuracy: 1.0000 - val_loss: 0.2245 - val_accuracy: 0.9542\n",
            "Epoch 28/100\n",
            "30/30 [==============================] - 1s 23ms/step - loss: 0.0143 - accuracy: 0.9924 - val_loss: 0.1699 - val_accuracy: 0.9583\n",
            "Epoch 29/100\n",
            "30/30 [==============================] - 1s 22ms/step - loss: 0.0050 - accuracy: 0.9986 - val_loss: 0.1765 - val_accuracy: 0.9625\n",
            "Epoch 30/100\n",
            "30/30 [==============================] - 1s 22ms/step - loss: 0.0065 - accuracy: 0.9994 - val_loss: 0.2502 - val_accuracy: 0.9458\n",
            "Epoch 31/100\n",
            "30/30 [==============================] - 1s 23ms/step - loss: 0.0101 - accuracy: 0.9967 - val_loss: 0.2385 - val_accuracy: 0.9500\n",
            "Epoch 32/100\n",
            "30/30 [==============================] - 1s 23ms/step - loss: 0.0021 - accuracy: 0.9991 - val_loss: 0.1741 - val_accuracy: 0.9667\n",
            "Epoch 33/100\n",
            "30/30 [==============================] - 1s 23ms/step - loss: 0.0039 - accuracy: 0.9997 - val_loss: 0.2575 - val_accuracy: 0.9542\n",
            "Epoch 34/100\n",
            "30/30 [==============================] - 1s 23ms/step - loss: 0.0112 - accuracy: 0.9956 - val_loss: 0.2530 - val_accuracy: 0.9667\n",
            "Epoch 35/100\n",
            "30/30 [==============================] - 1s 23ms/step - loss: 0.0062 - accuracy: 0.9994 - val_loss: 0.3102 - val_accuracy: 0.9625\n",
            "Epoch 36/100\n",
            "30/30 [==============================] - 1s 23ms/step - loss: 0.0027 - accuracy: 1.0000 - val_loss: 0.2506 - val_accuracy: 0.9458\n",
            "Epoch 37/100\n",
            "30/30 [==============================] - 1s 24ms/step - loss: 0.0020 - accuracy: 1.0000 - val_loss: 0.2874 - val_accuracy: 0.9625\n",
            "Epoch 38/100\n",
            "30/30 [==============================] - 1s 25ms/step - loss: 9.7924e-04 - accuracy: 1.0000 - val_loss: 0.2806 - val_accuracy: 0.9667\n",
            "Epoch 39/100\n",
            "30/30 [==============================] - 1s 24ms/step - loss: 0.0191 - accuracy: 0.9941 - val_loss: 0.2425 - val_accuracy: 0.9583\n",
            "Epoch 40/100\n",
            "30/30 [==============================] - 1s 24ms/step - loss: 0.0066 - accuracy: 0.9978 - val_loss: 0.2295 - val_accuracy: 0.9500\n",
            "Epoch 41/100\n",
            "30/30 [==============================] - 1s 24ms/step - loss: 0.0052 - accuracy: 0.9990 - val_loss: 0.2513 - val_accuracy: 0.9458\n",
            "Epoch 42/100\n",
            "30/30 [==============================] - 1s 23ms/step - loss: 0.0185 - accuracy: 0.9934 - val_loss: 0.2260 - val_accuracy: 0.9542\n",
            "Epoch 43/100\n",
            "30/30 [==============================] - 1s 23ms/step - loss: 0.0038 - accuracy: 0.9991 - val_loss: 0.2248 - val_accuracy: 0.9500\n",
            "Epoch 44/100\n",
            "30/30 [==============================] - 1s 24ms/step - loss: 0.0031 - accuracy: 0.9990 - val_loss: 0.2897 - val_accuracy: 0.9500\n",
            "Epoch 45/100\n",
            "30/30 [==============================] - 1s 23ms/step - loss: 0.0014 - accuracy: 0.9998 - val_loss: 0.3693 - val_accuracy: 0.9333\n",
            "Epoch 46/100\n",
            "30/30 [==============================] - 1s 24ms/step - loss: 0.0064 - accuracy: 0.9967 - val_loss: 0.3284 - val_accuracy: 0.9500\n",
            "Epoch 47/100\n",
            "30/30 [==============================] - 1s 23ms/step - loss: 0.0017 - accuracy: 1.0000 - val_loss: 0.3912 - val_accuracy: 0.9208\n",
            "Epoch 48/100\n",
            "30/30 [==============================] - 1s 24ms/step - loss: 0.0111 - accuracy: 0.9946 - val_loss: 0.3439 - val_accuracy: 0.9500\n",
            "Epoch 49/100\n",
            "30/30 [==============================] - 1s 26ms/step - loss: 0.0018 - accuracy: 0.9998 - val_loss: 0.3004 - val_accuracy: 0.9583\n",
            "Epoch 50/100\n",
            "30/30 [==============================] - 1s 24ms/step - loss: 0.0014 - accuracy: 1.0000 - val_loss: 0.2878 - val_accuracy: 0.9458\n",
            "Epoch 51/100\n",
            "30/30 [==============================] - 1s 24ms/step - loss: 0.0086 - accuracy: 0.9949 - val_loss: 0.3143 - val_accuracy: 0.9500\n",
            "Epoch 52/100\n",
            "30/30 [==============================] - 1s 23ms/step - loss: 4.3527e-04 - accuracy: 1.0000 - val_loss: 0.2859 - val_accuracy: 0.9667\n",
            "Epoch 53/100\n",
            "30/30 [==============================] - 1s 25ms/step - loss: 0.0039 - accuracy: 0.9975 - val_loss: 0.4561 - val_accuracy: 0.9292\n",
            "Epoch 54/100\n",
            "30/30 [==============================] - 1s 25ms/step - loss: 0.0093 - accuracy: 0.9987 - val_loss: 0.2939 - val_accuracy: 0.9625\n",
            "Epoch 55/100\n",
            "30/30 [==============================] - 1s 25ms/step - loss: 3.3307e-04 - accuracy: 1.0000 - val_loss: 0.3003 - val_accuracy: 0.9583\n",
            "Epoch 56/100\n",
            "30/30 [==============================] - 1s 23ms/step - loss: 0.0021 - accuracy: 0.9991 - val_loss: 0.2590 - val_accuracy: 0.9625\n",
            "Epoch 57/100\n",
            "30/30 [==============================] - 1s 24ms/step - loss: 0.0021 - accuracy: 0.9987 - val_loss: 0.3252 - val_accuracy: 0.9583\n",
            "Epoch 58/100\n",
            "30/30 [==============================] - 1s 24ms/step - loss: 0.0031 - accuracy: 0.9986 - val_loss: 0.2423 - val_accuracy: 0.9708\n",
            "Epoch 59/100\n",
            "30/30 [==============================] - 1s 24ms/step - loss: 0.0045 - accuracy: 0.9990 - val_loss: 0.2439 - val_accuracy: 0.9708\n",
            "Epoch 60/100\n",
            "30/30 [==============================] - 1s 25ms/step - loss: 0.0019 - accuracy: 0.9999 - val_loss: 0.3505 - val_accuracy: 0.9333\n",
            "Epoch 61/100\n",
            "30/30 [==============================] - 1s 24ms/step - loss: 0.0021 - accuracy: 0.9996 - val_loss: 0.2743 - val_accuracy: 0.9583\n",
            "Epoch 62/100\n",
            "30/30 [==============================] - 1s 24ms/step - loss: 7.6857e-04 - accuracy: 0.9995 - val_loss: 0.3130 - val_accuracy: 0.9542\n",
            "Epoch 63/100\n",
            "30/30 [==============================] - 1s 24ms/step - loss: 2.8376e-04 - accuracy: 1.0000 - val_loss: 0.2552 - val_accuracy: 0.9583\n",
            "Epoch 64/100\n",
            "30/30 [==============================] - 1s 23ms/step - loss: 2.4650e-04 - accuracy: 1.0000 - val_loss: 0.2924 - val_accuracy: 0.9542\n",
            "Epoch 65/100\n",
            "30/30 [==============================] - 1s 24ms/step - loss: 8.4804e-04 - accuracy: 0.9993 - val_loss: 0.3425 - val_accuracy: 0.9417\n",
            "Epoch 66/100\n",
            "30/30 [==============================] - 1s 24ms/step - loss: 9.1846e-04 - accuracy: 1.0000 - val_loss: 0.3230 - val_accuracy: 0.9583\n",
            "Epoch 67/100\n",
            "30/30 [==============================] - 1s 23ms/step - loss: 0.0032 - accuracy: 1.0000 - val_loss: 0.3567 - val_accuracy: 0.9542\n",
            "Epoch 68/100\n",
            "30/30 [==============================] - 1s 25ms/step - loss: 2.0959e-04 - accuracy: 1.0000 - val_loss: 0.4741 - val_accuracy: 0.9333\n",
            "Epoch 69/100\n",
            "30/30 [==============================] - 1s 23ms/step - loss: 7.9375e-04 - accuracy: 1.0000 - val_loss: 0.3119 - val_accuracy: 0.9542\n",
            "Epoch 70/100\n",
            "30/30 [==============================] - 1s 24ms/step - loss: 2.3309e-04 - accuracy: 1.0000 - val_loss: 0.3482 - val_accuracy: 0.9583\n",
            "Epoch 71/100\n",
            "30/30 [==============================] - 1s 24ms/step - loss: 0.0063 - accuracy: 0.9990 - val_loss: 0.4179 - val_accuracy: 0.9542\n",
            "Epoch 72/100\n",
            "30/30 [==============================] - 1s 24ms/step - loss: 2.3266e-05 - accuracy: 1.0000 - val_loss: 0.4639 - val_accuracy: 0.9500\n",
            "Epoch 73/100\n",
            "30/30 [==============================] - 1s 23ms/step - loss: 0.0120 - accuracy: 0.9982 - val_loss: 0.2954 - val_accuracy: 0.9583\n",
            "Epoch 74/100\n",
            "30/30 [==============================] - 1s 23ms/step - loss: 2.8381e-04 - accuracy: 1.0000 - val_loss: 0.3095 - val_accuracy: 0.9625\n",
            "Epoch 75/100\n",
            "30/30 [==============================] - 1s 23ms/step - loss: 0.0126 - accuracy: 0.9986 - val_loss: 0.3362 - val_accuracy: 0.9542\n",
            "Epoch 76/100\n",
            "30/30 [==============================] - 1s 23ms/step - loss: 1.8523e-04 - accuracy: 1.0000 - val_loss: 0.5182 - val_accuracy: 0.9542\n",
            "Epoch 77/100\n",
            "30/30 [==============================] - 1s 24ms/step - loss: 0.0012 - accuracy: 0.9989 - val_loss: 0.3980 - val_accuracy: 0.9458\n",
            "Epoch 78/100\n",
            "30/30 [==============================] - 1s 24ms/step - loss: 6.4954e-04 - accuracy: 1.0000 - val_loss: 0.4249 - val_accuracy: 0.9458\n",
            "Epoch 79/100\n",
            "30/30 [==============================] - 1s 23ms/step - loss: 0.0041 - accuracy: 0.9957 - val_loss: 0.4285 - val_accuracy: 0.9417\n",
            "Epoch 80/100\n",
            "30/30 [==============================] - 1s 23ms/step - loss: 0.0011 - accuracy: 1.0000 - val_loss: 0.4576 - val_accuracy: 0.9333\n",
            "Epoch 81/100\n",
            "30/30 [==============================] - 1s 24ms/step - loss: 1.1303e-04 - accuracy: 1.0000 - val_loss: 0.4607 - val_accuracy: 0.9375\n",
            "Epoch 82/100\n",
            "30/30 [==============================] - 1s 23ms/step - loss: 0.0012 - accuracy: 1.0000 - val_loss: 0.4566 - val_accuracy: 0.9417\n",
            "Epoch 83/100\n",
            "30/30 [==============================] - 1s 24ms/step - loss: 3.6237e-04 - accuracy: 1.0000 - val_loss: 0.4462 - val_accuracy: 0.9458\n",
            "Epoch 84/100\n",
            "30/30 [==============================] - 1s 23ms/step - loss: 8.0388e-05 - accuracy: 1.0000 - val_loss: 0.5216 - val_accuracy: 0.9542\n",
            "Epoch 85/100\n",
            "30/30 [==============================] - 1s 23ms/step - loss: 0.0030 - accuracy: 0.9978 - val_loss: 0.4868 - val_accuracy: 0.9583\n",
            "Epoch 86/100\n",
            "30/30 [==============================] - 1s 23ms/step - loss: 7.5607e-04 - accuracy: 1.0000 - val_loss: 0.4651 - val_accuracy: 0.9583\n",
            "Epoch 87/100\n",
            "30/30 [==============================] - 1s 23ms/step - loss: 0.0020 - accuracy: 0.9980 - val_loss: 0.5686 - val_accuracy: 0.9458\n",
            "Epoch 88/100\n",
            "30/30 [==============================] - 1s 24ms/step - loss: 3.4188e-04 - accuracy: 1.0000 - val_loss: 0.6301 - val_accuracy: 0.9333\n",
            "Epoch 89/100\n",
            "30/30 [==============================] - 1s 24ms/step - loss: 0.0046 - accuracy: 0.9986 - val_loss: 0.3989 - val_accuracy: 0.9458\n",
            "Epoch 90/100\n",
            "30/30 [==============================] - 1s 24ms/step - loss: 9.0704e-04 - accuracy: 1.0000 - val_loss: 0.4434 - val_accuracy: 0.9375\n",
            "Epoch 91/100\n",
            "30/30 [==============================] - 1s 24ms/step - loss: 0.0022 - accuracy: 0.9987 - val_loss: 0.4790 - val_accuracy: 0.9583\n",
            "Epoch 92/100\n",
            "30/30 [==============================] - 1s 23ms/step - loss: 4.4958e-05 - accuracy: 1.0000 - val_loss: 0.4433 - val_accuracy: 0.9458\n",
            "Epoch 93/100\n",
            "30/30 [==============================] - 1s 24ms/step - loss: 1.1807e-04 - accuracy: 1.0000 - val_loss: 0.4450 - val_accuracy: 0.9542\n",
            "Epoch 94/100\n",
            "30/30 [==============================] - 1s 24ms/step - loss: 0.0085 - accuracy: 0.9968 - val_loss: 0.3830 - val_accuracy: 0.9500\n",
            "Epoch 95/100\n",
            "30/30 [==============================] - 1s 23ms/step - loss: 4.2522e-04 - accuracy: 1.0000 - val_loss: 0.3782 - val_accuracy: 0.9625\n",
            "Epoch 96/100\n",
            "30/30 [==============================] - 1s 23ms/step - loss: 0.0024 - accuracy: 0.9984 - val_loss: 0.3753 - val_accuracy: 0.9625\n",
            "Epoch 97/100\n",
            "30/30 [==============================] - 1s 24ms/step - loss: 0.0012 - accuracy: 0.9998 - val_loss: 0.3906 - val_accuracy: 0.9542\n",
            "Epoch 98/100\n",
            "30/30 [==============================] - 1s 25ms/step - loss: 1.5323e-04 - accuracy: 1.0000 - val_loss: 0.5240 - val_accuracy: 0.9417\n",
            "Epoch 99/100\n",
            "30/30 [==============================] - 1s 24ms/step - loss: 0.0045 - accuracy: 0.9992 - val_loss: 0.5018 - val_accuracy: 0.9250\n",
            "Epoch 100/100\n",
            "30/30 [==============================] - 1s 24ms/step - loss: 2.2388e-04 - accuracy: 1.0000 - val_loss: 0.4409 - val_accuracy: 0.9417\n"
          ],
          "name": "stdout"
        }
      ]
    },
    {
      "cell_type": "code",
      "metadata": {
        "colab": {
          "base_uri": "https://localhost:8080/",
          "height": 591
        },
        "id": "nDXngl_HiAm4",
        "outputId": "4c057725-5c2f-4fc3-ba0c-6b676d89e5de"
      },
      "source": [
        "# summarize history for accuracy\n",
        "plt.plot(history.history['accuracy'])\n",
        "plt.plot(history.history['val_accuracy'])\n",
        "plt.title('model accuracy')\n",
        "plt.ylabel('accuracy')\n",
        "plt.xlabel('epoch')\n",
        "plt.legend(['train', 'test'], loc='upper left')\n",
        "plt.show()\n",
        "\n",
        "# summarize history for loss\n",
        "plt.plot(history.history['loss'])\n",
        "plt.plot(history.history['val_loss'])\n",
        "plt.title('model loss')\n",
        "plt.ylabel('loss')\n",
        "plt.xlabel('epoch')\n",
        "plt.legend(['train', 'test'], loc='upper left')\n",
        "plt.show()\n",
        "\n",
        "#plt.plot(history.history['auc'])\n",
        "#plt.plot(history.history['val_auc'])\n",
        "#plt.title('model AUC')\n",
        "#plt.ylabel('AUC')\n",
        "#plt.xlabel('epoch')\n",
        "#plt.legend(['train', 'test'], loc='upper left')\n",
        "#plt.show()\n",
        "\n",
        "\n",
        "#plt.plot(history.history['specificity_at_sensitivity'])\n",
        "#plt.plot(history.history['val_specificity_at_sensitivity'])\n",
        "#plt.title('model sensitivity')\n",
        "#plt.ylabel('sensitivity')\n",
        "#plt.xlabel('epoch')\n",
        "#plt.legend(['train', 'test'], loc='upper left')\n",
        "#plt.show()\n",
        "\n",
        "print(\"Max Val Accuracy :\",max(history.history['val_accuracy']))\n",
        "#print(\"Max Val AUC :\",max(history.history['val_auc']))\n",
        "#print(\"Max Val Sensitivity :\",max(history.history['val_specificity_at_sensitivity']))"
      ],
      "execution_count": null,
      "outputs": [
        {
          "output_type": "display_data",
          "data": {
            "image/png": "[encoded data removed]",
            "text/plain": [
              "<Figure size 432x288 with 1 Axes>"
            ]
          },
          "metadata": {
            "tags": [],
            "needs_background": "light"
          }
        },
        {
          "output_type": "display_data",
          "data": {
            "image/png": "[encoded data removed]",
            "text/plain": [
              "<Figure size 432x288 with 1 Axes>"
            ]
          },
          "metadata": {
            "tags": [],
            "needs_background": "light"
          }
        },
        {
          "output_type": "stream",
          "text": [
            "Max Val Accuracy : 0.9708333611488342\n"
          ],
          "name": "stdout"
        }
      ]
    },
    {
      "cell_type": "markdown",
      "metadata": {
        "id": "GlqZI-kB0cth"
      },
      "source": [
        "#5 fold cross validation"
      ]
    },
    {
      "cell_type": "code",
      "metadata": {
        "colab": {
          "base_uri": "https://localhost:8080/"
        },
        "id": "5iLUU8iTiOIl",
        "outputId": "63b059a2-f323-4069-e2ba-0f0e000bc661"
      },
      "source": [
        "#10 fold cross validation\n",
        "cross_val=[]\n",
        "from sklearn.model_selection import KFold, StratifiedKFold\n",
        "from collections import Counter\n",
        "skf=StratifiedKFold(n_splits=5,random_state=14, shuffle=True)\n",
        "i=0\n",
        "for train_ind , test_ind in  skf.split(data,labels):\n",
        "  i+=1\n",
        "  print('5 Fold :' + str(i))\n",
        "  X_train = data[train_ind ,:,:]\n",
        "  X_s_train = data_stat[train_ind ,:,:]\n",
        "  y_train = labels[train_ind]\n",
        "  \n",
        "  X_val = data[test_ind,:,:]\n",
        "  X_s_val = data_stat[test_ind,:,:]\n",
        "  y_val = labels[test_ind]\n",
        "  \n",
        "  print(X_train.shape)\n",
        "  print(X_s_train.shape)\n",
        "  print(y_train.shape)\n",
        "  print(X_val.shape)\n",
        "  print(X_s_val.shape)\n",
        "  print(y_val.shape)\n",
        "  print(Counter(y_train))\n",
        "  print(Counter(y_val))\n",
        "\n",
        "  #Model building\n",
        "  #model with statistical features\n",
        "  inputX1 = Input(shape = X_train[1,:,:].shape) \n",
        "  inputX2 = Input(shape = X_s_train[1,:,:].shape)\n",
        "\n",
        "  x1 = Conv1D(filters = 16, kernel_size =10, strides = 5, activation='relu')(inputX1)\n",
        "  print(x1.shape)\n",
        "\n",
        "  x1 =LSTM(units=64,activation='tanh',dropout=0.1,return_sequences=True,)(x1)   #dropout = 0.1      units =64\n",
        "  x1 = Flatten()(x1)\n",
        "  x1 = Model(inputs=inputX1, outputs=x1)\n",
        "\n",
        "  x2 = Flatten()(inputX2)\n",
        "  print(x2.shape)\n",
        "  x2 = Dense(32,activation='relu')(x2)\n",
        "  x2 = Model(inputs=inputX2, outputs=x2)\n",
        "\n",
        "  y_pred = concatenate([x1.output, x2.output])\n",
        "  print(y_pred.shape)\n",
        "  y_pred = Dense(16,activation='relu')(y_pred)\n",
        "  y_pred = Dropout(0.3)(y_pred)\n",
        "  y_pred = Dense(1,activation='sigmoid')(y_pred)\n",
        "\n",
        "  model = Model(inputs=[inputX1,inputX2], outputs=y_pred)\n",
        "\n",
        "  adam = tf.keras.optimizers.RMSprop(learning_rate = 0.001)\n",
        "  model.compile(optimizer = adam,loss = 'binary_crossentropy',metrics = ['accuracy'])\n",
        "  print(\"Model Training\")\n",
        "  history = model.fit(x=[X_train,X_s_train], y=y_train, epochs=100,validation_data=([X_val,X_s_val], y_val),verbose=0) \n",
        "\n",
        "  max_acc = max(history.history['val_accuracy'])\n",
        "  print(\"Max Val Accuracy :\", max_acc)\n",
        "\n",
        "  cross_val.append(max_acc)\n",
        "\n",
        "  #break"
      ],
      "execution_count": null,
      "outputs": [
        {
          "output_type": "stream",
          "text": [
            "5 Fold :1\n",
            "(960, 200, 8)\n",
            "(960, 8, 8)\n",
            "(960,)\n",
            "(240, 200, 8)\n",
            "(240, 8, 8)\n",
            "(240,)\n",
            "Counter({0.0: 840, 1.0: 120})\n",
            "Counter({0.0: 210, 1.0: 30})\n",
            "(None, 39, 16)\n",
            "(None, 64)\n",
            "(None, 2528)\n",
            "Model Training\n",
            "Max Val Accuracy : 0.9708333611488342\n",
            "5 Fold :2\n",
            "(960, 200, 8)\n",
            "(960, 8, 8)\n",
            "(960,)\n",
            "(240, 200, 8)\n",
            "(240, 8, 8)\n",
            "(240,)\n",
            "Counter({0.0: 840, 1.0: 120})\n",
            "Counter({0.0: 210, 1.0: 30})\n",
            "(None, 39, 16)\n",
            "(None, 64)\n",
            "(None, 2528)\n",
            "Model Training\n",
            "Max Val Accuracy : 0.9458333253860474\n",
            "5 Fold :3\n",
            "(960, 200, 8)\n",
            "(960, 8, 8)\n",
            "(960,)\n",
            "(240, 200, 8)\n",
            "(240, 8, 8)\n",
            "(240,)\n",
            "Counter({0.0: 840, 1.0: 120})\n",
            "Counter({0.0: 210, 1.0: 30})\n",
            "(None, 39, 16)\n",
            "(None, 64)\n",
            "(None, 2528)\n",
            "Model Training\n",
            "Max Val Accuracy : 0.987500011920929\n",
            "5 Fold :4\n",
            "(960, 200, 8)\n",
            "(960, 8, 8)\n",
            "(960,)\n",
            "(240, 200, 8)\n",
            "(240, 8, 8)\n",
            "(240,)\n",
            "Counter({0.0: 840, 1.0: 120})\n",
            "Counter({0.0: 210, 1.0: 30})\n",
            "(None, 39, 16)\n",
            "(None, 64)\n",
            "(None, 2528)\n",
            "Model Training\n",
            "Max Val Accuracy : 0.9750000238418579\n",
            "5 Fold :5\n",
            "(960, 200, 8)\n",
            "(960, 8, 8)\n",
            "(960,)\n",
            "(240, 200, 8)\n",
            "(240, 8, 8)\n",
            "(240,)\n",
            "Counter({0.0: 840, 1.0: 120})\n",
            "Counter({0.0: 210, 1.0: 30})\n",
            "(None, 39, 16)\n",
            "(None, 64)\n",
            "(None, 2528)\n",
            "Model Training\n",
            "Max Val Accuracy : 0.9458333253860474\n"
          ],
          "name": "stdout"
        }
      ]
    },
    {
      "cell_type": "code",
      "metadata": {
        "colab": {
          "base_uri": "https://localhost:8080/"
        },
        "id": "oDxOOWyd35AO",
        "outputId": "fcd2ff12-2c8b-4dd5-aa1b-47c1dbaf42f1"
      },
      "source": [
        "\n",
        "cross_val=np.array(cross_val)\n",
        "mean=np.mean(cross_val)\n",
        "sd=np.std(cross_val)\n",
        "\n",
        "#print(cross_val)\n",
        "print('cross_val mean :'+str(mean) )\n",
        "print('cross_val std :'+str(sd) )\n",
        "cross_val"
      ],
      "execution_count": null,
      "outputs": [
        {
          "output_type": "stream",
          "text": [
            "cross_val mean :0.9650000095367431\n",
            "cross_val std :0.016583135693144516\n"
          ],
          "name": "stdout"
        },
        {
          "output_type": "execute_result",
          "data": {
            "text/plain": [
              "array([0.97083336, 0.94583333, 0.98750001, 0.97500002, 0.94583333])"
            ]
          },
          "metadata": {
            "tags": []
          },
          "execution_count": 14
        }
      ]
    },
    {
      "cell_type": "code",
      "metadata": {
        "id": "JJ5kCugEdGZO"
      },
      "source": [
        ""
      ],
      "execution_count": null,
      "outputs": []
    }
  ]
}