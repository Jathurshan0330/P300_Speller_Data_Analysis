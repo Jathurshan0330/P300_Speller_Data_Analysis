{
  "nbformat": 4,
  "nbformat_minor": 0,
  "metadata": {
    "colab": {
      "name": " P300_speller_PSD(RNN)_experiment..ipynb",
      "provenance": [],
      "collapsed_sections": [
        "GXxmGXKn0rhc"
      ]
    },
    "kernelspec": {
      "name": "python3",
      "display_name": "Python 3"
    },
    "language_info": {
      "name": "python"
    }
  },
  "cells": [
    {
      "cell_type": "code",
      "metadata": {
        "id": "4y4fsIhIyijW"
      },
      "source": [
        "#Import libraries\n",
        "import os\n",
        "import sys\n",
        "import numpy as np\n",
        "import matplotlib.pyplot as plt\n",
        "import scipy.io\n",
        "\n",
        "from sklearn.model_selection import train_test_split\n",
        "from sklearn.discriminant_analysis import LinearDiscriminantAnalysis as LDA\n",
        "from sklearn.model_selection import cross_val_score\n",
        "from sklearn.model_selection import RepeatedStratifiedKFold\n",
        "import tensorflow as tf\n",
        "from scipy import stats \n",
        "from tensorflow.keras.models import Sequential,Model\n",
        "from tensorflow.keras.layers import Dense, Input,LSTM,Reshape,Conv2D,Conv1D,Flatten,Dropout,BatchNormalization, LeakyReLU, concatenate, GRU, GlobalMaxPooling1D, GlobalMaxPooling2D, Bidirectional"
      ],
      "execution_count": 1,
      "outputs": []
    },
    {
      "cell_type": "code",
      "metadata": {
        "colab": {
          "base_uri": "https://localhost:8080/"
        },
        "id": "3-QqU-oGzIvY",
        "outputId": "7ee1d0a9-71b8-452f-b43f-a6a398dd7816"
      },
      "source": [
        "from google.colab import drive\n",
        "drive.mount('/content/drive')"
      ],
      "execution_count": 2,
      "outputs": [
        {
          "output_type": "stream",
          "text": [
            "Drive already mounted at /content/drive; to attempt to forcibly remount, call drive.mount(\"/content/drive\", force_remount=True).\n"
          ],
          "name": "stdout"
        }
      ]
    },
    {
      "cell_type": "code",
      "metadata": {
        "colab": {
          "base_uri": "https://localhost:8080/"
        },
        "id": "hdJOrWBmzJub",
        "outputId": "50c9c175-ad24-4fb7-a39c-2be8cb8618ee"
      },
      "source": [
        "cd '/content/drive/MyDrive/P300_Speller_data/psd_experiment/800ms_sw'"
      ],
      "execution_count": 3,
      "outputs": [
        {
          "output_type": "stream",
          "text": [
            "/content/drive/MyDrive/P300_Speller_data/psd_experiment/800ms_sw\n"
          ],
          "name": "stdout"
        }
      ]
    },
    {
      "cell_type": "code",
      "metadata": {
        "colab": {
          "base_uri": "https://localhost:8080/"
        },
        "id": "bMpKEH29zOwm",
        "outputId": "51deb563-e70c-45ca-ec8d-e691e2e53e36"
      },
      "source": [
        "pos_data = scipy.io.loadmat('pos_data_S5_800ms_Spectral_whitened.mat')['pos_data_norm']\n",
        "print(pos_data.shape)\n",
        "neg_data = scipy.io.loadmat('neg_data_S5_800ms_Spectral_whitened.mat')['neg_data_norm']  #_Spectral_whitened\n",
        "print(neg_data.shape)"
      ],
      "execution_count": 4,
      "outputs": [
        {
          "output_type": "stream",
          "text": [
            "(5, 32, 150)\n",
            "(5, 32, 1050)\n"
          ],
          "name": "stdout"
        }
      ]
    },
    {
      "cell_type": "code",
      "metadata": {
        "colab": {
          "base_uri": "https://localhost:8080/"
        },
        "id": "9CDpEPRNzTvT",
        "outputId": "459ded1e-2f0f-4b30-a439-c2665b0856fd"
      },
      "source": [
        "data = np.append(pos_data ,neg_data ,axis = 2) \n",
        "print(data.shape)"
      ],
      "execution_count": 5,
      "outputs": [
        {
          "output_type": "stream",
          "text": [
            "(5, 32, 1200)\n"
          ],
          "name": "stdout"
        }
      ]
    },
    {
      "cell_type": "code",
      "metadata": {
        "colab": {
          "base_uri": "https://localhost:8080/"
        },
        "id": "x8h0PJu3zeYk",
        "outputId": "22c532c9-dd83-4de5-dbbc-ae3a0723b3b2"
      },
      "source": [
        "labels = np.append(np.ones((pos_data.shape[2],)),np.zeros((neg_data.shape[2],)))\n",
        "print(pos_data.shape[2])\n",
        "print(neg_data.shape[2])\n",
        "print(labels.shape)\n",
        "print(labels)"
      ],
      "execution_count": 6,
      "outputs": [
        {
          "output_type": "stream",
          "text": [
            "150\n",
            "1050\n",
            "(1200,)\n",
            "[1. 1. 1. ... 0. 0. 0.]\n"
          ],
          "name": "stdout"
        }
      ]
    },
    {
      "cell_type": "code",
      "metadata": {
        "colab": {
          "base_uri": "https://localhost:8080/"
        },
        "id": "Wu_cZhLfzhgX",
        "outputId": "fc7d70f4-5db1-4bf6-db43-746f3114dc39"
      },
      "source": [
        "data = data\n",
        "data = np.moveaxis(data,-1,0)\n",
        "# , timesteps, features/units\n",
        "#data = np.moveaxis(data,-1,1)\n",
        "print(data.shape)"
      ],
      "execution_count": 7,
      "outputs": [
        {
          "output_type": "stream",
          "text": [
            "(1200, 5, 32)\n"
          ],
          "name": "stdout"
        }
      ]
    },
    {
      "cell_type": "markdown",
      "metadata": {
        "id": "iOAkGf2Qzk1q"
      },
      "source": [
        "##RNN"
      ]
    },
    {
      "cell_type": "code",
      "metadata": {
        "colab": {
          "base_uri": "https://localhost:8080/"
        },
        "id": "RHvxEBoZzxls",
        "outputId": "0b6f6b87-b90d-440b-d693-469166525a89"
      },
      "source": [
        "X_train, X_val, y_train, y_val = train_test_split(data, labels, test_size=0.2, random_state=42, stratify = labels)\n",
        "print(X_train.shape)\n",
        "print(y_train.shape)\n",
        "print(X_val.shape)\n",
        "print(y_val.shape)"
      ],
      "execution_count": 11,
      "outputs": [
        {
          "output_type": "stream",
          "text": [
            "(960, 5, 32)\n",
            "(960,)\n",
            "(240, 5, 32)\n",
            "(240,)\n"
          ],
          "name": "stdout"
        }
      ]
    },
    {
      "cell_type": "code",
      "metadata": {
        "colab": {
          "base_uri": "https://localhost:8080/"
        },
        "id": "iN7y9c1qz08J",
        "outputId": "359a5ac1-f176-4da8-830b-8146ed7860d3"
      },
      "source": [
        "from collections import Counter\n",
        "print(Counter(y_train))\n",
        "print(Counter(y_val))"
      ],
      "execution_count": 12,
      "outputs": [
        {
          "output_type": "stream",
          "text": [
            "Counter({0.0: 840, 1.0: 120})\n",
            "Counter({0.0: 210, 1.0: 30})\n"
          ],
          "name": "stdout"
        }
      ]
    },
    {
      "cell_type": "code",
      "metadata": {
        "id": "ZLPTttfNz4GN"
      },
      "source": [
        "#Model RNN building\n",
        "#model best for psd experiment\n",
        "inputX1 = Input(shape = X_train[1,:,:].shape) \n",
        "#y_pred = Conv1D(filters = 16, kernel_size =2, strides = 1, activation='relu')(inputX1)\n",
        "#print(y_pred.shape)\n",
        "\n",
        "y_pred =LSTM(units=32,activation='tanh',dropout=0.1,return_sequences=False,)(inputX1)   #dropout = 0.1      units =64\n",
        "#y_pred = Flatten()(y_pred)\n",
        "y_pred = Dense(16,activation='relu')(y_pred)\n",
        "y_pred = Dropout(0.3)(y_pred)\n",
        "y_pred = Dense(1,activation='sigmoid')(y_pred)"
      ],
      "execution_count": 42,
      "outputs": []
    },
    {
      "cell_type": "code",
      "metadata": {
        "colab": {
          "base_uri": "https://localhost:8080/",
          "height": 533
        },
        "id": "b2KPxT1iz-pJ",
        "outputId": "e3186900-d5a1-4589-ae1d-c8b6580b5e13"
      },
      "source": [
        "model = Model(inputs=inputX1, outputs=y_pred)\n",
        "from keras.utils.vis_utils import plot_model\n",
        "plot_model(model, to_file='model_plot.png', show_shapes=True, show_layer_names=True)"
      ],
      "execution_count": 43,
      "outputs": [
        {
          "output_type": "execute_result",
          "data": {
            "image/png": "[encoded data removed]",
            "text/plain": [
              "<IPython.core.display.Image object>"
            ]
          },
          "metadata": {
            "tags": []
          },
          "execution_count": 43
        }
      ]
    },
    {
      "cell_type": "code",
      "metadata": {
        "colab": {
          "base_uri": "https://localhost:8080/"
        },
        "id": "0oA9xi5Hz_No",
        "outputId": "4321a1ca-ef4a-4d66-90c5-4f1f859abf8f"
      },
      "source": [
        "adam = tf.keras.optimizers.RMSprop(learning_rate = 0.001)\n",
        "model.compile(optimizer = adam,loss = 'binary_crossentropy',metrics = ['accuracy'])\n",
        "print(\"Model Training\")\n",
        "history = model.fit(x=X_train, y=y_train, epochs=100,validation_data=(X_val, y_val),verbose=1) "
      ],
      "execution_count": 44,
      "outputs": [
        {
          "output_type": "stream",
          "text": [
            "Model Training\n",
            "Epoch 1/100\n",
            "30/30 [==============================] - 3s 27ms/step - loss: 0.6861 - accuracy: 0.5500 - val_loss: 0.5730 - val_accuracy: 0.8000\n",
            "Epoch 2/100\n",
            "30/30 [==============================] - 0s 6ms/step - loss: 0.5518 - accuracy: 0.7972 - val_loss: 0.4841 - val_accuracy: 0.8667\n",
            "Epoch 3/100\n",
            "30/30 [==============================] - 0s 5ms/step - loss: 0.4700 - accuracy: 0.8646 - val_loss: 0.4236 - val_accuracy: 0.8750\n",
            "Epoch 4/100\n",
            "30/30 [==============================] - 0s 5ms/step - loss: 0.3974 - accuracy: 0.8811 - val_loss: 0.3952 - val_accuracy: 0.8750\n",
            "Epoch 5/100\n",
            "30/30 [==============================] - 0s 5ms/step - loss: 0.3904 - accuracy: 0.8787 - val_loss: 0.3872 - val_accuracy: 0.8750\n",
            "Epoch 6/100\n",
            "30/30 [==============================] - 0s 5ms/step - loss: 0.3157 - accuracy: 0.8992 - val_loss: 0.3896 - val_accuracy: 0.8750\n",
            "Epoch 7/100\n",
            "30/30 [==============================] - 0s 5ms/step - loss: 0.3126 - accuracy: 0.8973 - val_loss: 0.3950 - val_accuracy: 0.8750\n",
            "Epoch 8/100\n",
            "30/30 [==============================] - 0s 5ms/step - loss: 0.3198 - accuracy: 0.8824 - val_loss: 0.3997 - val_accuracy: 0.8750\n",
            "Epoch 9/100\n",
            "30/30 [==============================] - 0s 5ms/step - loss: 0.3183 - accuracy: 0.8719 - val_loss: 0.4071 - val_accuracy: 0.8750\n",
            "Epoch 10/100\n",
            "30/30 [==============================] - 0s 5ms/step - loss: 0.2705 - accuracy: 0.8905 - val_loss: 0.4167 - val_accuracy: 0.8750\n",
            "Epoch 11/100\n",
            "30/30 [==============================] - 0s 5ms/step - loss: 0.3035 - accuracy: 0.8681 - val_loss: 0.4269 - val_accuracy: 0.8750\n",
            "Epoch 12/100\n",
            "30/30 [==============================] - 0s 5ms/step - loss: 0.2467 - accuracy: 0.8909 - val_loss: 0.4376 - val_accuracy: 0.8708\n",
            "Epoch 13/100\n",
            "30/30 [==============================] - 0s 5ms/step - loss: 0.2967 - accuracy: 0.8722 - val_loss: 0.4455 - val_accuracy: 0.8708\n",
            "Epoch 14/100\n",
            "30/30 [==============================] - 0s 5ms/step - loss: 0.2365 - accuracy: 0.9014 - val_loss: 0.4550 - val_accuracy: 0.8667\n",
            "Epoch 15/100\n",
            "30/30 [==============================] - 0s 5ms/step - loss: 0.2049 - accuracy: 0.9072 - val_loss: 0.4700 - val_accuracy: 0.8667\n",
            "Epoch 16/100\n",
            "30/30 [==============================] - 0s 5ms/step - loss: 0.2144 - accuracy: 0.9121 - val_loss: 0.4818 - val_accuracy: 0.8667\n",
            "Epoch 17/100\n",
            "30/30 [==============================] - 0s 5ms/step - loss: 0.1799 - accuracy: 0.9274 - val_loss: 0.4971 - val_accuracy: 0.8583\n",
            "Epoch 18/100\n",
            "30/30 [==============================] - 0s 5ms/step - loss: 0.1788 - accuracy: 0.9244 - val_loss: 0.5166 - val_accuracy: 0.8542\n",
            "Epoch 19/100\n",
            "30/30 [==============================] - 0s 5ms/step - loss: 0.1733 - accuracy: 0.9450 - val_loss: 0.5334 - val_accuracy: 0.8500\n",
            "Epoch 20/100\n",
            "30/30 [==============================] - 0s 4ms/step - loss: 0.1736 - accuracy: 0.9385 - val_loss: 0.5508 - val_accuracy: 0.8500\n",
            "Epoch 21/100\n",
            "30/30 [==============================] - 0s 5ms/step - loss: 0.1495 - accuracy: 0.9443 - val_loss: 0.5615 - val_accuracy: 0.8458\n",
            "Epoch 22/100\n",
            "30/30 [==============================] - 0s 5ms/step - loss: 0.1356 - accuracy: 0.9394 - val_loss: 0.5861 - val_accuracy: 0.8417\n",
            "Epoch 23/100\n",
            "30/30 [==============================] - 0s 5ms/step - loss: 0.1264 - accuracy: 0.9531 - val_loss: 0.6119 - val_accuracy: 0.8417\n",
            "Epoch 24/100\n",
            "30/30 [==============================] - 0s 5ms/step - loss: 0.1029 - accuracy: 0.9602 - val_loss: 0.6350 - val_accuracy: 0.8417\n",
            "Epoch 25/100\n",
            "30/30 [==============================] - 0s 5ms/step - loss: 0.1203 - accuracy: 0.9565 - val_loss: 0.6488 - val_accuracy: 0.8417\n",
            "Epoch 26/100\n",
            "30/30 [==============================] - 0s 5ms/step - loss: 0.0949 - accuracy: 0.9697 - val_loss: 0.6628 - val_accuracy: 0.8375\n",
            "Epoch 27/100\n",
            "30/30 [==============================] - 0s 6ms/step - loss: 0.0866 - accuracy: 0.9732 - val_loss: 0.6978 - val_accuracy: 0.8375\n",
            "Epoch 28/100\n",
            "30/30 [==============================] - 0s 6ms/step - loss: 0.0920 - accuracy: 0.9695 - val_loss: 0.7141 - val_accuracy: 0.8333\n",
            "Epoch 29/100\n",
            "30/30 [==============================] - 0s 5ms/step - loss: 0.0751 - accuracy: 0.9848 - val_loss: 0.7359 - val_accuracy: 0.8208\n",
            "Epoch 30/100\n",
            "30/30 [==============================] - 0s 5ms/step - loss: 0.0731 - accuracy: 0.9813 - val_loss: 0.7680 - val_accuracy: 0.8250\n",
            "Epoch 31/100\n",
            "30/30 [==============================] - 0s 5ms/step - loss: 0.0679 - accuracy: 0.9793 - val_loss: 0.7927 - val_accuracy: 0.8292\n",
            "Epoch 32/100\n",
            "30/30 [==============================] - 0s 5ms/step - loss: 0.0574 - accuracy: 0.9828 - val_loss: 0.8079 - val_accuracy: 0.8208\n",
            "Epoch 33/100\n",
            "30/30 [==============================] - 0s 5ms/step - loss: 0.0754 - accuracy: 0.9789 - val_loss: 0.8281 - val_accuracy: 0.8208\n",
            "Epoch 34/100\n",
            "30/30 [==============================] - 0s 5ms/step - loss: 0.0549 - accuracy: 0.9845 - val_loss: 0.8715 - val_accuracy: 0.8208\n",
            "Epoch 35/100\n",
            "30/30 [==============================] - 0s 5ms/step - loss: 0.0702 - accuracy: 0.9796 - val_loss: 0.8761 - val_accuracy: 0.8167\n",
            "Epoch 36/100\n",
            "30/30 [==============================] - 0s 6ms/step - loss: 0.0431 - accuracy: 0.9892 - val_loss: 0.9140 - val_accuracy: 0.8250\n",
            "Epoch 37/100\n",
            "30/30 [==============================] - 0s 5ms/step - loss: 0.0487 - accuracy: 0.9892 - val_loss: 0.9355 - val_accuracy: 0.8167\n",
            "Epoch 38/100\n",
            "30/30 [==============================] - 0s 5ms/step - loss: 0.0453 - accuracy: 0.9881 - val_loss: 0.9532 - val_accuracy: 0.8208\n",
            "Epoch 39/100\n",
            "30/30 [==============================] - 0s 5ms/step - loss: 0.0432 - accuracy: 0.9854 - val_loss: 0.9629 - val_accuracy: 0.8208\n",
            "Epoch 40/100\n",
            "30/30 [==============================] - 0s 5ms/step - loss: 0.0341 - accuracy: 0.9939 - val_loss: 0.9604 - val_accuracy: 0.8208\n",
            "Epoch 41/100\n",
            "30/30 [==============================] - 0s 6ms/step - loss: 0.0262 - accuracy: 0.9934 - val_loss: 1.0027 - val_accuracy: 0.8167\n",
            "Epoch 42/100\n",
            "30/30 [==============================] - 0s 5ms/step - loss: 0.0356 - accuracy: 0.9912 - val_loss: 1.0073 - val_accuracy: 0.8125\n",
            "Epoch 43/100\n",
            "30/30 [==============================] - 0s 5ms/step - loss: 0.0256 - accuracy: 0.9927 - val_loss: 1.0427 - val_accuracy: 0.8208\n",
            "Epoch 44/100\n",
            "30/30 [==============================] - 0s 5ms/step - loss: 0.0386 - accuracy: 0.9823 - val_loss: 1.0425 - val_accuracy: 0.8292\n",
            "Epoch 45/100\n",
            "30/30 [==============================] - 0s 5ms/step - loss: 0.0266 - accuracy: 0.9940 - val_loss: 1.0688 - val_accuracy: 0.8250\n",
            "Epoch 46/100\n",
            "30/30 [==============================] - 0s 5ms/step - loss: 0.0203 - accuracy: 0.9946 - val_loss: 1.0778 - val_accuracy: 0.8042\n",
            "Epoch 47/100\n",
            "30/30 [==============================] - 0s 5ms/step - loss: 0.0278 - accuracy: 0.9868 - val_loss: 1.1234 - val_accuracy: 0.8125\n",
            "Epoch 48/100\n",
            "30/30 [==============================] - 0s 5ms/step - loss: 0.0222 - accuracy: 0.9951 - val_loss: 1.1485 - val_accuracy: 0.8042\n",
            "Epoch 49/100\n",
            "30/30 [==============================] - 0s 5ms/step - loss: 0.0301 - accuracy: 0.9892 - val_loss: 1.1535 - val_accuracy: 0.8083\n",
            "Epoch 50/100\n",
            "30/30 [==============================] - 0s 5ms/step - loss: 0.0297 - accuracy: 0.9923 - val_loss: 1.1423 - val_accuracy: 0.8042\n",
            "Epoch 51/100\n",
            "30/30 [==============================] - 0s 5ms/step - loss: 0.0169 - accuracy: 0.9943 - val_loss: 1.1674 - val_accuracy: 0.7958\n",
            "Epoch 52/100\n",
            "30/30 [==============================] - 0s 5ms/step - loss: 0.0244 - accuracy: 0.9912 - val_loss: 1.2043 - val_accuracy: 0.8083\n",
            "Epoch 53/100\n",
            "30/30 [==============================] - 0s 5ms/step - loss: 0.0178 - accuracy: 0.9925 - val_loss: 1.2129 - val_accuracy: 0.8125\n",
            "Epoch 54/100\n",
            "30/30 [==============================] - 0s 5ms/step - loss: 0.0149 - accuracy: 0.9948 - val_loss: 1.2356 - val_accuracy: 0.8125\n",
            "Epoch 55/100\n",
            "30/30 [==============================] - 0s 6ms/step - loss: 0.0144 - accuracy: 0.9945 - val_loss: 1.2410 - val_accuracy: 0.8125\n",
            "Epoch 56/100\n",
            "30/30 [==============================] - 0s 5ms/step - loss: 0.0211 - accuracy: 0.9964 - val_loss: 1.2464 - val_accuracy: 0.8000\n",
            "Epoch 57/100\n",
            "30/30 [==============================] - 0s 5ms/step - loss: 0.0141 - accuracy: 0.9932 - val_loss: 1.2859 - val_accuracy: 0.8167\n",
            "Epoch 58/100\n",
            "30/30 [==============================] - 0s 5ms/step - loss: 0.0195 - accuracy: 0.9942 - val_loss: 1.2865 - val_accuracy: 0.8000\n",
            "Epoch 59/100\n",
            "30/30 [==============================] - 0s 6ms/step - loss: 0.0252 - accuracy: 0.9926 - val_loss: 1.3258 - val_accuracy: 0.7958\n",
            "Epoch 60/100\n",
            "30/30 [==============================] - 0s 6ms/step - loss: 0.0254 - accuracy: 0.9929 - val_loss: 1.3460 - val_accuracy: 0.8125\n",
            "Epoch 61/100\n",
            "30/30 [==============================] - 0s 5ms/step - loss: 0.0107 - accuracy: 0.9973 - val_loss: 1.3532 - val_accuracy: 0.8042\n",
            "Epoch 62/100\n",
            "30/30 [==============================] - 0s 5ms/step - loss: 0.0183 - accuracy: 0.9968 - val_loss: 1.3640 - val_accuracy: 0.8042\n",
            "Epoch 63/100\n",
            "30/30 [==============================] - 0s 5ms/step - loss: 0.0247 - accuracy: 0.9921 - val_loss: 1.3715 - val_accuracy: 0.8000\n",
            "Epoch 64/100\n",
            "30/30 [==============================] - 0s 5ms/step - loss: 0.0128 - accuracy: 0.9944 - val_loss: 1.3764 - val_accuracy: 0.8000\n",
            "Epoch 65/100\n",
            "30/30 [==============================] - 0s 5ms/step - loss: 0.0110 - accuracy: 0.9976 - val_loss: 1.4158 - val_accuracy: 0.8083\n",
            "Epoch 66/100\n",
            "30/30 [==============================] - 0s 6ms/step - loss: 0.0170 - accuracy: 0.9935 - val_loss: 1.4215 - val_accuracy: 0.8042\n",
            "Epoch 67/100\n",
            "30/30 [==============================] - 0s 5ms/step - loss: 0.0221 - accuracy: 0.9906 - val_loss: 1.4060 - val_accuracy: 0.8083\n",
            "Epoch 68/100\n",
            "30/30 [==============================] - 0s 5ms/step - loss: 0.0092 - accuracy: 0.9977 - val_loss: 1.4013 - val_accuracy: 0.8125\n",
            "Epoch 69/100\n",
            "30/30 [==============================] - 0s 5ms/step - loss: 0.0138 - accuracy: 0.9958 - val_loss: 1.4077 - val_accuracy: 0.8167\n",
            "Epoch 70/100\n",
            "30/30 [==============================] - 0s 5ms/step - loss: 0.0100 - accuracy: 0.9974 - val_loss: 1.4245 - val_accuracy: 0.8208\n",
            "Epoch 71/100\n",
            "30/30 [==============================] - 0s 5ms/step - loss: 0.0182 - accuracy: 0.9937 - val_loss: 1.4204 - val_accuracy: 0.8083\n",
            "Epoch 72/100\n",
            "30/30 [==============================] - 0s 5ms/step - loss: 0.0164 - accuracy: 0.9939 - val_loss: 1.4591 - val_accuracy: 0.8125\n",
            "Epoch 73/100\n",
            "30/30 [==============================] - 0s 5ms/step - loss: 0.0593 - accuracy: 0.9894 - val_loss: 1.4583 - val_accuracy: 0.8083\n",
            "Epoch 74/100\n",
            "30/30 [==============================] - 0s 5ms/step - loss: 0.0250 - accuracy: 0.9934 - val_loss: 1.4806 - val_accuracy: 0.8125\n",
            "Epoch 75/100\n",
            "30/30 [==============================] - 0s 5ms/step - loss: 0.0149 - accuracy: 0.9961 - val_loss: 1.4450 - val_accuracy: 0.8167\n",
            "Epoch 76/100\n",
            "30/30 [==============================] - 0s 5ms/step - loss: 0.0096 - accuracy: 0.9980 - val_loss: 1.4518 - val_accuracy: 0.8208\n",
            "Epoch 77/100\n",
            "30/30 [==============================] - 0s 5ms/step - loss: 0.0103 - accuracy: 0.9955 - val_loss: 1.4573 - val_accuracy: 0.8042\n",
            "Epoch 78/100\n",
            "30/30 [==============================] - 0s 5ms/step - loss: 0.0099 - accuracy: 0.9965 - val_loss: 1.4496 - val_accuracy: 0.8125\n",
            "Epoch 79/100\n",
            "30/30 [==============================] - 0s 6ms/step - loss: 0.0044 - accuracy: 0.9975 - val_loss: 1.4867 - val_accuracy: 0.8083\n",
            "Epoch 80/100\n",
            "30/30 [==============================] - 0s 5ms/step - loss: 0.0079 - accuracy: 0.9992 - val_loss: 1.5252 - val_accuracy: 0.8125\n",
            "Epoch 81/100\n",
            "30/30 [==============================] - 0s 5ms/step - loss: 0.0059 - accuracy: 0.9972 - val_loss: 1.5380 - val_accuracy: 0.8167\n",
            "Epoch 82/100\n",
            "30/30 [==============================] - 0s 5ms/step - loss: 0.0092 - accuracy: 0.9961 - val_loss: 1.5564 - val_accuracy: 0.8167\n",
            "Epoch 83/100\n",
            "30/30 [==============================] - 0s 5ms/step - loss: 0.0289 - accuracy: 0.9939 - val_loss: 1.5528 - val_accuracy: 0.8125\n",
            "Epoch 84/100\n",
            "30/30 [==============================] - 0s 5ms/step - loss: 0.0070 - accuracy: 0.9987 - val_loss: 1.5963 - val_accuracy: 0.8125\n",
            "Epoch 85/100\n",
            "30/30 [==============================] - 0s 6ms/step - loss: 0.0043 - accuracy: 1.0000 - val_loss: 1.6501 - val_accuracy: 0.8208\n",
            "Epoch 86/100\n",
            "30/30 [==============================] - 0s 5ms/step - loss: 0.0112 - accuracy: 0.9978 - val_loss: 1.6772 - val_accuracy: 0.8208\n",
            "Epoch 87/100\n",
            "30/30 [==============================] - 0s 5ms/step - loss: 0.0136 - accuracy: 0.9963 - val_loss: 1.6578 - val_accuracy: 0.8208\n",
            "Epoch 88/100\n",
            "30/30 [==============================] - 0s 5ms/step - loss: 0.0106 - accuracy: 0.9952 - val_loss: 1.6804 - val_accuracy: 0.8083\n",
            "Epoch 89/100\n",
            "30/30 [==============================] - 0s 5ms/step - loss: 0.0075 - accuracy: 0.9970 - val_loss: 1.6934 - val_accuracy: 0.8208\n",
            "Epoch 90/100\n",
            "30/30 [==============================] - 0s 5ms/step - loss: 0.0111 - accuracy: 0.9967 - val_loss: 1.7334 - val_accuracy: 0.8292\n",
            "Epoch 91/100\n",
            "30/30 [==============================] - 0s 5ms/step - loss: 0.0062 - accuracy: 0.9970 - val_loss: 1.7333 - val_accuracy: 0.8250\n",
            "Epoch 92/100\n",
            "30/30 [==============================] - 0s 5ms/step - loss: 0.0084 - accuracy: 0.9978 - val_loss: 1.7442 - val_accuracy: 0.8250\n",
            "Epoch 93/100\n",
            "30/30 [==============================] - 0s 5ms/step - loss: 0.0222 - accuracy: 0.9940 - val_loss: 1.7188 - val_accuracy: 0.8125\n",
            "Epoch 94/100\n",
            "30/30 [==============================] - 0s 5ms/step - loss: 0.0049 - accuracy: 0.9980 - val_loss: 1.7353 - val_accuracy: 0.8125\n",
            "Epoch 95/100\n",
            "30/30 [==============================] - 0s 5ms/step - loss: 0.0046 - accuracy: 0.9982 - val_loss: 1.7264 - val_accuracy: 0.8208\n",
            "Epoch 96/100\n",
            "30/30 [==============================] - 0s 5ms/step - loss: 0.0068 - accuracy: 0.9978 - val_loss: 1.7665 - val_accuracy: 0.8333\n",
            "Epoch 97/100\n",
            "30/30 [==============================] - 0s 5ms/step - loss: 0.0297 - accuracy: 0.9907 - val_loss: 1.7314 - val_accuracy: 0.8250\n",
            "Epoch 98/100\n",
            "30/30 [==============================] - 0s 5ms/step - loss: 0.0066 - accuracy: 0.9988 - val_loss: 1.7403 - val_accuracy: 0.8167\n",
            "Epoch 99/100\n",
            "30/30 [==============================] - 0s 5ms/step - loss: 0.0150 - accuracy: 0.9962 - val_loss: 1.7385 - val_accuracy: 0.8083\n",
            "Epoch 100/100\n",
            "30/30 [==============================] - 0s 5ms/step - loss: 0.0078 - accuracy: 0.9951 - val_loss: 1.7491 - val_accuracy: 0.8250\n"
          ],
          "name": "stdout"
        }
      ]
    },
    {
      "cell_type": "code",
      "metadata": {
        "colab": {
          "base_uri": "https://localhost:8080/",
          "height": 591
        },
        "id": "m4UPP2Fn0mqr",
        "outputId": "1ea3a43d-7341-43b8-9802-bef6d6466920"
      },
      "source": [
        "# summarize history for accuracy\n",
        "plt.plot(history.history['accuracy'])\n",
        "plt.plot(history.history['val_accuracy'])\n",
        "plt.title('model accuracy')\n",
        "plt.ylabel('accuracy')\n",
        "plt.xlabel('epoch')\n",
        "plt.legend(['train', 'test'], loc='upper left')\n",
        "plt.show()\n",
        "\n",
        "# summarize history for loss\n",
        "plt.plot(history.history['loss'])\n",
        "plt.plot(history.history['val_loss'])\n",
        "plt.title('model loss')\n",
        "plt.ylabel('loss')\n",
        "plt.xlabel('epoch')\n",
        "plt.legend(['train', 'test'], loc='upper left')\n",
        "plt.show()\n",
        "\n",
        "#plt.plot(history.history['auc'])\n",
        "#plt.plot(history.history['val_auc'])\n",
        "#plt.title('model AUC')\n",
        "#plt.ylabel('AUC')\n",
        "#plt.xlabel('epoch')\n",
        "#plt.legend(['train', 'test'], loc='upper left')\n",
        "#plt.show()\n",
        "\n",
        "\n",
        "#plt.plot(history.history['specificity_at_sensitivity'])\n",
        "#plt.plot(history.history['val_specificity_at_sensitivity'])\n",
        "#plt.title('model sensitivity')\n",
        "#plt.ylabel('sensitivity')\n",
        "#plt.xlabel('epoch')\n",
        "#plt.legend(['train', 'test'], loc='upper left')\n",
        "#plt.show()\n",
        "\n",
        "print(\"Max Val Accuracy :\",max(history.history['val_accuracy']))\n",
        "#print(\"Max Val AUC :\",max(history.history['val_auc']))\n",
        "#print(\"Max Val Sensitivity :\",max(history.history['val_specificity_at_sensitivity']))"
      ],
      "execution_count": 45,
      "outputs": [
        {
          "output_type": "display_data",
          "data": {
            "image/png": "[encoded data removed]",
            "text/plain": [
              "<Figure size 432x288 with 1 Axes>"
            ]
          },
          "metadata": {
            "tags": [],
            "needs_background": "light"
          }
        },
        {
          "output_type": "display_data",
          "data": {
            "image/png": "[encoded data removed]",
            "text/plain": [
              "<Figure size 432x288 with 1 Axes>"
            ]
          },
          "metadata": {
            "tags": [],
            "needs_background": "light"
          }
        },
        {
          "output_type": "stream",
          "text": [
            "Max Val Accuracy : 0.875\n"
          ],
          "name": "stdout"
        }
      ]
    },
    {
      "cell_type": "markdown",
      "metadata": {
        "id": "GXxmGXKn0rhc"
      },
      "source": [
        "##5 fold Cross validation\n"
      ]
    },
    {
      "cell_type": "code",
      "metadata": {
        "colab": {
          "base_uri": "https://localhost:8080/"
        },
        "id": "yUCnDAu30vnE",
        "outputId": "b2f99109-2585-4a4f-c417-5181247d4ea5"
      },
      "source": [
        "#10 fold cross validation\n",
        "cross_val=[]\n",
        "from sklearn.model_selection import KFold, StratifiedKFold\n",
        "from collections import Counter\n",
        "skf=StratifiedKFold(n_splits=5,random_state=14, shuffle=True)\n",
        "i=0\n",
        "for train_ind , test_ind in  skf.split(data,labels):\n",
        "  i+=1\n",
        "  print('5 Fold :' + str(i))\n",
        "  X_train = data[train_ind ,:,:]\n",
        "  y_train = labels[train_ind]\n",
        "  \n",
        "  X_val = data[test_ind,:,:]\n",
        "  y_val = labels[test_ind]\n",
        "  \n",
        "  print(X_train.shape)\n",
        "  print(y_train.shape)\n",
        "  print(X_val.shape)\n",
        "  print(y_val.shape)\n",
        "  print(Counter(y_train))\n",
        "  print(Counter(y_val))\n",
        "\n",
        "  #Model building\n",
        "  inputX1 = Input(shape = X_train[1,:,:].shape) \n",
        "\n",
        "  y_pred =LSTM(units=32,activation='tanh',dropout=0.1,return_sequences=False,)(inputX1)   #dropout = 0.1      units =64\n",
        "  #y_pred = Flatten()(y_pred)\n",
        "  y_pred = Dense(16,activation='relu')(y_pred)\n",
        "  y_pred = Dropout(0.3)(y_pred)\n",
        "  y_pred = Dense(1,activation='sigmoid')(y_pred)\n",
        "\n",
        "  model = Model(inputs=inputX1, outputs=y_pred)\n",
        "\n",
        "  adam = tf.keras.optimizers.RMSprop(learning_rate = 0.001)\n",
        "  model.compile(optimizer = adam,loss = 'binary_crossentropy',metrics = ['accuracy'])\n",
        "  print(\"Model Training\")\n",
        "  history = model.fit(x=X_train, y=y_train, epochs=100,validation_data=(X_val, y_val),verbose=0) \n",
        "\n",
        "  max_acc = max(history.history['val_accuracy'])\n",
        "  print(\"Max Val Accuracy :\", max_acc)\n",
        "\n",
        "  cross_val.append(max_acc)\n",
        "\n",
        "  #break"
      ],
      "execution_count": 8,
      "outputs": [
        {
          "output_type": "stream",
          "text": [
            "5 Fold :1\n",
            "(960, 5, 32)\n",
            "(960,)\n",
            "(240, 5, 32)\n",
            "(240,)\n",
            "Counter({0.0: 840, 1.0: 120})\n",
            "Counter({0.0: 210, 1.0: 30})\n",
            "Model Training\n",
            "Max Val Accuracy : 0.887499988079071\n",
            "5 Fold :2\n",
            "(960, 5, 32)\n",
            "(960,)\n",
            "(240, 5, 32)\n",
            "(240,)\n",
            "Counter({0.0: 840, 1.0: 120})\n",
            "Counter({0.0: 210, 1.0: 30})\n",
            "Model Training\n",
            "Max Val Accuracy : 0.875\n",
            "5 Fold :3\n",
            "(960, 5, 32)\n",
            "(960,)\n",
            "(240, 5, 32)\n",
            "(240,)\n",
            "Counter({0.0: 840, 1.0: 120})\n",
            "Counter({0.0: 210, 1.0: 30})\n",
            "Model Training\n",
            "Max Val Accuracy : 0.875\n",
            "5 Fold :4\n",
            "(960, 5, 32)\n",
            "(960,)\n",
            "(240, 5, 32)\n",
            "(240,)\n",
            "Counter({0.0: 840, 1.0: 120})\n",
            "Counter({0.0: 210, 1.0: 30})\n",
            "Model Training\n",
            "Max Val Accuracy : 0.8999999761581421\n",
            "5 Fold :5\n",
            "(960, 5, 32)\n",
            "(960,)\n",
            "(240, 5, 32)\n",
            "(240,)\n",
            "Counter({0.0: 840, 1.0: 120})\n",
            "Counter({0.0: 210, 1.0: 30})\n",
            "Model Training\n",
            "Max Val Accuracy : 0.875\n"
          ],
          "name": "stdout"
        }
      ]
    },
    {
      "cell_type": "code",
      "metadata": {
        "colab": {
          "base_uri": "https://localhost:8080/"
        },
        "id": "JBwYta5i1aM_",
        "outputId": "043d8a3a-b1c2-4597-9a68-1fd96da9b0bf"
      },
      "source": [
        "\n",
        "cross_val=np.array(cross_val)\n",
        "mean=np.mean(cross_val)\n",
        "sd=np.std(cross_val)\n",
        "\n",
        "#print(cross_val)\n",
        "print('cross_val mean :'+str(mean) )\n",
        "print('cross_val std :'+str(sd) )\n",
        "cross_val"
      ],
      "execution_count": 10,
      "outputs": [
        {
          "output_type": "stream",
          "text": [
            "cross_val mean :0.8824999928474426\n",
            "cross_val std :0.009999990463256836\n"
          ],
          "name": "stdout"
        },
        {
          "output_type": "execute_result",
          "data": {
            "text/plain": [
              "array([0.88749999, 0.875     , 0.875     , 0.89999998, 0.875     ])"
            ]
          },
          "metadata": {
            "tags": []
          },
          "execution_count": 10
        }
      ]
    },
    {
      "cell_type": "code",
      "metadata": {
        "id": "h0IP8bS07tOc"
      },
      "source": [
        ""
      ],
      "execution_count": null,
      "outputs": []
    }
  ]
}